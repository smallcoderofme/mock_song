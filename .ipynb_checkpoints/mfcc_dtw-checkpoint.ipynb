{
 "cells": [
  {
   "cell_type": "code",
   "execution_count": 27,
   "metadata": {},
   "outputs": [],
   "source": [
    "import librosa\n",
    "y1, sr1 = librosa.load('my1.ogg')\n",
    "y2, sr2 = librosa.load('my1.ogg')"
   ]
  },
  {
   "cell_type": "code",
   "execution_count": 28,
   "metadata": {},
   "outputs": [],
   "source": [
    "mfcc1 = librosa.feature.mfcc(y1, sr1)\n",
    "mfcc2 = librosa.feature.mfcc(y2, sr2)\n",
    "#librosa.display.specshow(mfcc2)"
   ]
  },
  {
   "cell_type": "code",
   "execution_count": 29,
   "metadata": {},
   "outputs": [
    {
     "name": "stdout",
     "output_type": "stream",
     "text": [
      "Normalized distance between the two sounds: 0.0\n"
     ]
    }
   ],
   "source": [
    "from dtw import dtw\n",
    "from numpy.linalg import norm\n",
    "dist, cost, acc_cost, path = dtw(mfcc1.T, mfcc2.T, dist=lambda x, y: norm(x - y, ord=1))\n",
    "# dist, cost, acc_cost, path = dtw(pitch_values1, pitch_values2, dist=lambda x, y: norm(x - y, ord=1))\n",
    "print(\"Normalized distance between the two sounds:\", dist)"
   ]
  },
  {
   "cell_type": "code",
   "execution_count": 10,
   "metadata": {},
   "outputs": [],
   "source": [
    "# imshow(cost.T, origin='lower', cmap=cm.gray, interpolation='nearest')\n",
    "# plot(path[0], path[1], 'w')\n",
    "# xlim((-0.5, cost.shape[0]-0.5))\n",
    "# ylim((-0.5, cost.shape[1]-0.5))"
   ]
  },
  {
   "cell_type": "code",
   "execution_count": null,
   "metadata": {},
   "outputs": [],
   "source": []
  },
  {
   "cell_type": "code",
   "execution_count": null,
   "metadata": {},
   "outputs": [],
   "source": []
  }
 ],
 "metadata": {
  "kernelspec": {
   "display_name": "Python 3",
   "language": "python",
   "name": "python3"
  },
  "language_info": {
   "codemirror_mode": {
    "name": "ipython",
    "version": 3
   },
   "file_extension": ".py",
   "mimetype": "text/x-python",
   "name": "python",
   "nbconvert_exporter": "python",
   "pygments_lexer": "ipython3",
   "version": "3.6.5"
  }
 },
 "nbformat": 4,
 "nbformat_minor": 2
}
